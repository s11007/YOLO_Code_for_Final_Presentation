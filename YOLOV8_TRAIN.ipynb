{
  "nbformat": 4,
  "nbformat_minor": 0,
  "metadata": {
    "colab": {
      "provenance": [],
      "gpuType": "T4"
    },
    "kernelspec": {
      "name": "python3",
      "display_name": "Python 3"
    },
    "language_info": {
      "name": "python"
    },
    "accelerator": "GPU"
  },
  "cells": [
    {
      "cell_type": "code",
      "execution_count": null,
      "metadata": {
        "collapsed": true,
        "id": "7TOq4L16KSi1"
      },
      "outputs": [],
      "source": [
        "#安裝套件\n",
        "!pip install ultralytics"
      ]
    },
    {
      "cell_type": "code",
      "source": [
        "# 載入必要套件\n",
        "import os\n",
        "import cv2\n",
        "import glob\n",
        "from ultralytics import YOLO"
      ],
      "metadata": {
        "id": "iRgvV_Q_IqcM"
      },
      "execution_count": null,
      "outputs": []
    },
    {
      "cell_type": "code",
      "source": [
        "# 若沒有.yaml，將其建立\n",
        "data = '/content/drive/MyDrive/train.yaml'\n",
        "content = \"\"\"\n",
        "train: /content/drive/MyDrive/YOLOV8/train/images/\n",
        "val: /content/drive/MyDrive/YOLOV8/valid/images/\n",
        "nc: 1\n",
        "names: ['people']\n",
        "\"\"\"\n",
        "# 創建 YAML configuration 檔案\n",
        "with open(data, 'w') as file:\n",
        "    file.write(content)\n",
        "\n",
        "print(f'File written to {data}')"
      ],
      "metadata": {
        "id": "h0pREq1Xzg2w"
      },
      "execution_count": null,
      "outputs": []
    },
    {
      "cell_type": "code",
      "source": [
        "model = YOLO('yolov8n.yaml').load('yolov8n.pt')  # 使用yolov8n預訓練模型 因colab運算元有限，且希望能real-time，因此只利用最小模型\n",
        "model.train(data='/content/drive/MyDrive/train.yaml', epochs=5)# colab運算元有限，不希望跑到斷掉，只跑五圈， 其他參數可以去官網 https://docs.ultralytics.com/modes/train/ 看"
      ],
      "metadata": {
        "collapsed": true,
        "id": "GxvNyoaIRrx7"
      },
      "execution_count": null,
      "outputs": []
    }
  ]
}