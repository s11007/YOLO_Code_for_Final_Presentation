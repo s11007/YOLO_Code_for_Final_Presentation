{
  "nbformat": 4,
  "nbformat_minor": 0,
  "metadata": {
    "colab": {
      "provenance": []
    },
    "kernelspec": {
      "name": "python3",
      "display_name": "Python 3"
    },
    "language_info": {
      "name": "python"
    }
  },
  "cells": [
    {
      "cell_type": "code",
      "source": [
        "from google.colab import drive\n",
        "drive.mount('/content/drive')"
      ],
      "metadata": {
        "id": "BGE4sLX4vkTh"
      },
      "execution_count": null,
      "outputs": []
    },
    {
      "cell_type": "code",
      "source": [
        "import os\n",
        "import shutil"
      ],
      "metadata": {
        "id": "l-VlSjowdM7q"
      },
      "execution_count": null,
      "outputs": []
    },
    {
      "cell_type": "code",
      "source": [
        "\"\"\" 直接存到雲端 大約5.5GB 先確認雲端空間還夠\n",
        "!wget -O MOT17.zip https://motchallenge.net/data/MOT17.zip\n",
        "!unzip /content/MOT17.zip -d /content/drive/MyDrive/\n",
        "\"\"\""
      ],
      "metadata": {
        "id": "CA8kMJghv5ez"
      },
      "execution_count": null,
      "outputs": []
    },
    {
      "cell_type": "code",
      "source": [
        "path = '/content/drive/MyDrive/trainyolo'\n",
        "train = ['02','04','09','10','11','13']\n",
        "valid = ['12','14']"
      ],
      "metadata": {
        "id": "wMwe7nNEx7ie"
      },
      "execution_count": null,
      "outputs": []
    },
    {
      "cell_type": "code",
      "source": [
        "os.makedirs(path, exist_ok=True)"
      ],
      "metadata": {
        "id": "LFR3NgAnnQuZ"
      },
      "execution_count": null,
      "outputs": []
    },
    {
      "cell_type": "code",
      "source": [
        "def copy_and_rename(endswith, source_dir, dest_dir, name):\n",
        "\n",
        "    if not os.path.exists(dest_dir):\n",
        "        os.makedirs(dest_dir)\n",
        "\n",
        "    for filename in os.listdir(source_dir):\n",
        "        if filename.endswith(endswith):\n",
        "            source_file = os.path.join(source_dir, filename)\n",
        "            dest_file = os.path.join(dest_dir, f\"{name}_{filename}\")\n",
        "            shutil.copy(source_file, dest_file)"
      ],
      "metadata": {
        "id": "wF6nZ86ZmYa1"
      },
      "execution_count": null,
      "outputs": []
    },
    {
      "cell_type": "code",
      "source": [
        "def labels(label_file,output_label_dir):\n",
        "\n",
        "    if not os.path.exists(output_label_dir):\n",
        "        os.makedirs(output_label_dir)\n",
        "\n",
        "    with open(label_file, 'r') as f:\n",
        "        lines = f.readlines()\n",
        "\n",
        "    for line in lines:\n",
        "        parts = line.strip().split(',')\n",
        "        if len(parts) != 7:\n",
        "            print(f\"格式錯誤: {line.strip()}\")\n",
        "            continue\n",
        "\n",
        "        frame = int(parts[0])  # frame\n",
        "        obj_id = int(parts[1])  # id\n",
        "        left = float(parts[2])  # left\n",
        "        top = float(parts[3])  # top\n",
        "        width = float(parts[4])  # width\n",
        "        height = float(parts[5])  # height\n",
        "\n",
        "        # 算center還有做normlization\n",
        "        img_width = 1920  # pixel\n",
        "        img_height = 1080  # pixel\n",
        "        x_center = (left + width / 2 - 1) / img_width\n",
        "        y_center = (top + height / 2) / img_height\n",
        "        norm_width = width / img_width\n",
        "        norm_height = height / img_height\n",
        "\n",
        "        # 轉換為 YOLO 格式\n",
        "        yolo_label = f\"0 {x_center} {y_center} {norm_width} {norm_height}\\n\"\n",
        "        output_label_path = os.path.join(output_label_dir, f\"{frame:06}.txt\")\n",
        "        with open(output_label_path, 'a') as out_f:\n",
        "            out_f.write(yolo_label)\n",
        "    print(f\"完成\")"
      ],
      "metadata": {
        "id": "WR7hMljOhfRP"
      },
      "execution_count": null,
      "outputs": []
    },
    {
      "cell_type": "code",
      "source": [
        "for i in train:\n",
        "    name = f'MOT17-{i}-FRCNN'\n",
        "    source_dir = f'/content/drive/MyDrive/MOT17/train/{name}/img1'\n",
        "    dest_dir = f'{path}/train/images/'\n",
        "    copy_and_rename('.jpg', source_dir, dest_dir, name)\n",
        "\n",
        "for i in valid:\n",
        "    name = f'MOT17-{i}-FRCNN'\n",
        "    source_dir = f'/content/drive/MyDrive/MOT17/test/{name}/img1'\n",
        "    dest_dir = f'{path}/valid/images/'\n",
        "    copy_and_rename('.jpg', source_dir, dest_dir, name)"
      ],
      "metadata": {
        "id": "SsQo_bbeWp7S"
      },
      "execution_count": null,
      "outputs": []
    },
    {
      "cell_type": "code",
      "source": [
        "for i in train:\n",
        "    name = f'MOT17-{i}-FRCNN'\n",
        "    train_file = f'/content/drive/MyDrive/MOT17/train/{name}/det/det.txt'\n",
        "    train_label_dir = f'/content/labels/{name}'\n",
        "    labels(train_file,train_label_dir)\n",
        "\n",
        "    source_dir = train_label_dir\n",
        "    dest_dir = f'{path}/train/labels/'\n",
        "    copy_and_rename('.txt', source_dir, dest_dir, name)\n",
        "\n",
        "for i in valid:\n",
        "    name = f'MOT17-{i}-FRCNN'\n",
        "    valid_file = f'/content/drive/MyDrive/MOT17/test/{name}/det/det.txt'\n",
        "    valid_label_dir = f'/content/labels/{name}'\n",
        "    labels(train_file,train_label_dir)\n",
        "\n",
        "    source_dir = train_label_dir\n",
        "    dest_dir = f'{path}/valid/labels/'\n",
        "    copy_and_rename('.txt', source_dir, dest_dir, name)"
      ],
      "metadata": {
        "id": "eHhheuiGu7z_"
      },
      "execution_count": null,
      "outputs": []
    }
  ]
}