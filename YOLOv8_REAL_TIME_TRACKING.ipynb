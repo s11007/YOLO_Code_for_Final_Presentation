{
  "nbformat": 4,
  "nbformat_minor": 0,
  "metadata": {
    "colab": {
      "provenance": []
    },
    "kernelspec": {
      "name": "python3",
      "display_name": "Python 3"
    },
    "language_info": {
      "name": "python"
    }
  },
  "cells": [
    {
      "cell_type": "code",
      "source": [
        "# 如果不想改程式碼，直接下載成.py檔或直接複製程式碼\n",
        "# 0. 到conda promot 下載需要的套件 pip install numpy; pip install cv2; pip install ultralytics\n",
        "# 1. 把訓練好的 .pt 檔放到跟你執行這份程式碼同一個資料夾(或使用預訓練好的yolov8模型 例如: model = YOLO(\"yolov8n.pt\")， 根據電腦效能，可以換成其他模型\n",
        "# 2. 放入你的即時影像網址\n",
        "# 3. 如果想將影片儲存，# video_writer_result可以調整\n",
        "# 4. 按下 q 可以跳出循環\n",
        "# 學校電腦確定能跑，怕筆電炸掉就用學校電腦跑"
      ],
      "metadata": {
        "id": "64okuG4mNKAj"
      },
      "execution_count": null,
      "outputs": []
    },
    {
      "cell_type": "code",
      "execution_count": null,
      "metadata": {
        "id": "IB16VclBM4v1"
      },
      "outputs": [],
      "source": [
        "from collections import defaultdict\n",
        "import cv2\n",
        "import numpy as np\n",
        "from ultralytics import YOLO\n",
        "\n",
        "# 載入 YOLO 模型\n",
        "model = YOLO(\"best.pt\")\n",
        "\n",
        "# 即時影像網址\n",
        "video_url = \"https://cctv1.kctmc.nat.gov.tw/6e559e58/\"\n",
        "# video_url = 'https://cctv6.kctmc.nat.gov.tw/f6007b0d/'\n",
        "\n",
        "# 打開cap\n",
        "cap = cv2.VideoCapture(video_url)\n",
        "\n",
        "if not cap.isOpened():\n",
        "    print(\"Error: Could not open video stream.\")\n",
        "    exit()\n",
        "\n",
        "# 獲取影片width, height, fps\n",
        "width = int(cap.get(cv2.CAP_PROP_FRAME_WIDTH))\n",
        "height = int(cap.get(cv2.CAP_PROP_FRAME_HEIGHT))\n",
        "fps = int(cap.get(cv2.CAP_PROP_FPS))\n",
        "\n",
        "# 存儲軌跡歷史\n",
        "track_history = defaultdict(lambda: [])\n",
        "# video_writer_result = cv2.VideoWriter('C:/Users/JJ/Pictures/test/output_video.mp4', cv2.VideoWriter_fourcc(*'mp4v'), fps, (width, height))\n",
        "\n",
        "# 判斷是否開啟\n",
        "while cap.isOpened():\n",
        "    # 對每幀讀取\n",
        "    success, frame = cap.read()\n",
        "\n",
        "    if success:\n",
        "        # 對每幀進行 YOLO 追蹤\n",
        "        results = model.track(frame, persist=True, show_labels=False, show_conf=False, save_txt=True)\n",
        "\n",
        "        # 確保檢測結果有效\n",
        "        if results[0].boxes.id is not None and len(results[0].boxes) > 0:\n",
        "            # 獲取框和跟蹤 ID\n",
        "            boxes = results[0].boxes.xywh.cpu()\n",
        "            track_ids = results[0].boxes.id.int().cpu().tolist()\n",
        "\n",
        "            # 可視化結果\n",
        "            frame_vis = results[0].plot()\n",
        "\n",
        "            # 繪製軌跡\n",
        "            for box, track_id in zip(boxes, track_ids):\n",
        "                x, y, w, h = box\n",
        "                track = track_history[track_id]\n",
        "                track.append((float(x), float(y)))\n",
        "                if len(track) > 30:\n",
        "                    track.pop(0)\n",
        "\n",
        "                # 繪製跟蹤線條\n",
        "                points = np.array(track, dtype=np.int32).reshape((-1, 1, 2))\n",
        "                cv2.polylines(frame_vis, [points], isClosed=False, color=(151, 255, 255), thickness=8)\n",
        "\n",
        "            # 顯示\n",
        "            cv2.imshow(\"frame\", frame_vis)\n",
        "\n",
        "            # 如果按下 q ，跳出循環\n",
        "        if cv2.waitKey(1) & 0xFF == ord(\"q\"):\n",
        "           cap.release()\n",
        "           cv2.destroyAllWindows()\n",
        "           break\n",
        "        else:\n",
        "            # 如果沒有檢測到任何物體，直接寫入原畫面\n",
        "            cv2.imshow(\"frame\", frame)\n",
        "    else:\n",
        "        # 如果讀取失敗，則跳出循環\n",
        "        break\n",
        "\n",
        "cap.release()\n",
        "# video_writer_result.release()\n",
        "cv2.destroyAllWindows()"
      ]
    }
  ]
}