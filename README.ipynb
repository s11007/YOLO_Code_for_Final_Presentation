{
  "nbformat": 4,
  "nbformat_minor": 0,
  "metadata": {
    "colab": {
      "provenance": []
    },
    "kernelspec": {
      "name": "python3",
      "display_name": "Python 3"
    },
    "language_info": {
      "name": "python"
    }
  },
  "cells": [
    {
      "cell_type": "markdown",
      "source": [
        "### **動機介紹**"
      ],
      "metadata": {
        "id": "--gSqjTpLmVN"
      }
    },
    {
      "cell_type": "markdown",
      "source": [
        "行人流量和動態分析是城市規劃的關鍵數據，能夠幫助政府部門了解人群動向。\n",
        "\n",
        "了解人群動向對於保障行人安全、維護交通秩序具有實質性的幫助，不但能及時發現異常行為，也能進一步增進行人體驗。\n",
        "\n",
        "因此我們希望透過影像辨識結合軌跡追蹤，動態了解行人流量和軌跡，為政府部門提供有效的資訊，增強緊急應變能力。\n"
      ],
      "metadata": {
        "id": "5I1OJEWBLuGt"
      }
    },
    {
      "cell_type": "markdown",
      "source": [
        "### **MOT17資料集來源**"
      ],
      "metadata": {
        "id": "CRyMi2QFLzQ8"
      }
    },
    {
      "cell_type": "markdown",
      "source": [
        "![image.png](data:image/png;base64,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)"
      ],
      "metadata": {
        "id": "Lis42c6-L4Ll"
      }
    },
    {
      "cell_type": "markdown",
      "source": [
        "### **資料處理**"
      ],
      "metadata": {
        "id": "mxKENpYQL-XI"
      }
    },
    {
      "cell_type": "markdown",
      "source": [
        "[YOLOV8_PREPARE_TRAIN_DATA_.ipynb\n",
        "](https://github.com/s11007/YOLO_Code_for_Final_Presentation/blob/main/YOLOV8_PREPARE_TRAIN_DATA_.ipynb)\n",
        "\n",
        "這是我們的資料處理,先將檔案下載至雲端,接著我們將標註資料轉換為YOLO可訓練的labels"
      ],
      "metadata": {
        "id": "khlwGR_2MqG-"
      }
    },
    {
      "cell_type": "markdown",
      "source": [
        "### **模型訓練**"
      ],
      "metadata": {
        "id": "41NV3nieUsGJ"
      }
    },
    {
      "cell_type": "markdown",
      "source": [
        "[**YOLOV8_TRAIN.ipynb**](https://github.com/s11007/YOLO_Code_for_Final_Presentation/blob/main/YOLOV8_TRAIN.ipynb)\n",
        "\n",
        "這是v8的模型訓練\n",
        "\n",
        "首先建立yaml檔,接著載入預訓練模型(YOLOv8n)# 因colab運算元有限,且希望能做到real-time,因此只用最小模型。\n",
        "\n",
        "自訂義模型使用MOT17訓練集訓練模型\n"
      ],
      "metadata": {
        "id": "Bit87y0eMfkZ"
      }
    },
    {
      "cell_type": "markdown",
      "source": [
        "### **資料測試**"
      ],
      "metadata": {
        "id": "yzqvyt_uOo8l"
      }
    },
    {
      "cell_type": "markdown",
      "source": [
        "[**YOLOV8_TRACKING.ipynb**](https://github.com/s11007/YOLO_Code_for_Final_Presentation/blob/main/YOLOV8_TRACKING.ipynb)\n",
        "這是我們的資料測試,裡面包含處裡測試影片、測試與測試結果匯出\n",
        "\n",
        "處裡測試影片\n",
        "原始影片檔案太大,直接跑追蹤會讓colab的RAM過載,因此先將影片每五幀截取一張壓成影片,再進行預測\n",
        "\n",
        "資料測試部分程式改寫自yolov8官網程式碼另外結合了cv2套件的影片存取功能。\n",
        "首先使用cap擷取測試影片,接著對每幀讀取圖片,取得結果後把box疊到圖片上,在疊上box後,記錄追蹤並劃出軌跡,最後寫入影片\n"
      ],
      "metadata": {
        "id": "2EYt9sKIQUeI"
      }
    },
    {
      "cell_type": "markdown",
      "source": [
        "### **輸出結果**"
      ],
      "metadata": {
        "id": "r26pTebNUx6q"
      }
    },
    {
      "cell_type": "markdown",
      "source": [
        "[影片](https://vimeo.com/951678578)"
      ],
      "metadata": {
        "id": "fbs_HwvcRpRf"
      }
    },
    {
      "cell_type": "markdown",
      "source": [
        "### **Real-Time輸出**"
      ],
      "metadata": {
        "id": "XSS-wZdTU2tv"
      }
    },
    {
      "cell_type": "markdown",
      "source": [
        "**[YOLOv8_REAL_TIME_TRACKING.ipynb](https://github.com/s11007/YOLO_Code_for_Final_Presentation/blob/main/YOLOv8_REAL_TIME_TRACKING.ipynb)**\n",
        "\n",
        "Real-Time輸出跟v8 tracking 做的差不多,把原先cap 擷取影片改為用 cap 擷取即時影像資訊，但因為大部分時間不會偵測到人，要多加判斷式確認，如果沒偵測到就顯示原畫面，不然會出現錯誤\n"
      ],
      "metadata": {
        "id": "H2oel173R3kh"
      }
    },
    {
      "cell_type": "markdown",
      "source": [
        "### **主要改進方向**"
      ],
      "metadata": {
        "id": "eMtDXdnuVYkv"
      }
    },
    {
      "cell_type": "markdown",
      "source": [
        "當進行追蹤時,若物體被障礙物阻擋,ID會重新計算,導致現階段做檢驗時會出現同一個人有不同ID。\n",
        "\n",
        "**改進方式:**\n",
        "\n",
        "利用ReID模型改善\n",
        "\n",
        "**ReID想法:**\n",
        "\n",
        "因為人不會憑空由路中央冒出或消失，只會發生於特定區域，例如：畫面邊界與商店門口等。\n",
        "\n",
        "因此當ID於不正常位置消失時,可以判斷為人停留於畫面中但無法識別。\n",
        "\n",
        "另外能利用移動速度推測這個ID將於畫面中停留的時長,若於不正常時間點消失,也能判斷他大機率停留於畫面中但無法識別。\n",
        "\n",
        "**ReID可能的作法:**\n",
        "\n",
        "從第二幀(或更後面)開始\n",
        "\n",
        "1.與前一幀比對,確認ID消失與出現的位置,如果在不正常位置發生,紀錄ID,標註為不正常消失或出現。\n",
        "\n",
        "2.可以利用移動速度,推測這個ID將於畫面中停留的時長,若於不正常時間點消失,紀錄ID ，標註為不正常消失。\n",
        "\n",
        "當有不正常出現ID,尋找前幾幀不正常消失ID,並利用軌跡預測結合ID間最小距離的方法,重新把ID還回去,並將其軌跡連接。\n",
        "\n",
        "\n",
        "1和2間的不正常消失也可以互相比對,推斷可能出現位置,將其軌跡連接。\n",
        "\n",
        "利用這些方法能有效改善ID重置問題。\n",
        "\n",
        "不過多跑一個模型對電腦效能與預測時長有所影響，還要額外進行評估。\n",
        "\n"
      ],
      "metadata": {
        "id": "iMOZbAGcVemk"
      }
    }
  ]
}