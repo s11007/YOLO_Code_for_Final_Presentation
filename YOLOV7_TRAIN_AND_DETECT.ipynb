{
  "nbformat": 4,
  "nbformat_minor": 0,
  "metadata": {
    "colab": {
      "provenance": []
    },
    "kernelspec": {
      "name": "python3",
      "display_name": "Python 3"
    },
    "language_info": {
      "name": "python"
    }
  },
  "cells": [
    {
      "cell_type": "code",
      "execution_count": null,
      "metadata": {
        "id": "4kco6YGxjv9J",
        "collapsed": true
      },
      "outputs": [],
      "source": [
        "!git clone https://github.com/WongKinYiu/yolov7\n",
        "%cd yolov7\n",
        "!wget https://github.com/WongKinYiu/yolov7/releases/download/v0.1/yolov7.pt\n",
        "!pip install -r requirements.txt"
      ]
    },
    {
      "cell_type": "code",
      "source": [
        "data = 'train.yaml'\n",
        "content = \"\"\"\n",
        "# train和valide改為你的檔案位置\n",
        "train: /content/drive/MyDrive/train/images/\n",
        "val: /content/drive/MyDrive/valid/images/\n",
        "\n",
        "nc: 1\n",
        "names: ['people']\n",
        "\"\"\"\n",
        "with open(data, 'w') as file:\n",
        "    file.write(content)\n",
        "\n",
        "print(f'File written to {data}')"
      ],
      "metadata": {
        "id": "h0pREq1Xzg2w"
      },
      "execution_count": null,
      "outputs": []
    },
    {
      "cell_type": "code",
      "source": [
        "!python train.py --data train.yaml --img 640 --batch 4 --epochs 10 --weights yolov7.pt"
      ],
      "metadata": {
        "collapsed": true,
        "id": "M8ZkDTGksUUH"
      },
      "execution_count": null,
      "outputs": []
    },
    {
      "cell_type": "code",
      "source": [
        "!python detect.py --weights best.pt --conf 0.25 --img-size 640 --source FRCNN03.mp4 --save-txt"
      ],
      "metadata": {
        "id": "Sk6Xvcgl--HI"
      },
      "execution_count": null,
      "outputs": []
    }
  ]
}